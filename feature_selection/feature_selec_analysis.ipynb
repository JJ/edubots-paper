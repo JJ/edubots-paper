{
 "metadata": {
  "language_info": {
   "codemirror_mode": {
    "name": "ipython",
    "version": 3
   },
   "file_extension": ".py",
   "mimetype": "text/x-python",
   "name": "python",
   "nbconvert_exporter": "python",
   "pygments_lexer": "ipython3",
   "version": "3.9.5-final"
  },
  "orig_nbformat": 2,
  "kernelspec": {
   "name": "python39564bitvenvvenv46b2a1f75c474e50867dd9418e8f2aa9",
   "display_name": "Python 3.9.5 64-bit ('venv': venv)"
  }
 },
 "nbformat": 4,
 "nbformat_minor": 2,
 "cells": [
  {
   "cell_type": "code",
   "execution_count": 1,
   "metadata": {},
   "outputs": [],
   "source": [
    "\n",
    "from sklearn.feature_selection import mutual_info_classif\n",
    "from sklearn.metrics import mutual_info_score\n",
    "import pandas as pd\n",
    "import numpy as np\n",
    "from itertools import permutations\n",
    "from feature_selec import *\n",
    "from sklearn.preprocessing import StandardScaler\n",
    "import pymrmr\n"
   ]
  },
  {
   "cell_type": "code",
   "execution_count": 2,
   "metadata": {},
   "outputs": [
    {
     "output_type": "stream",
     "name": "stdout",
     "text": [
      "Variable 0\nVariable 1\nVariable 2\nVariable 3\nVariable 4\nVariable 5\nVariable 6\nVariable 7\nVariable 8\nVariable 9\nVariable 10\nVariable 11\nVariable 12\nVariable 13\nVariable 14\nVariable 15\nVariable 16\nVariable 17\n MI classification\n[[0.00000000e+00 0.00000000e+00]\n [1.00000000e+00 0.00000000e+00]\n [2.00000000e+00 0.00000000e+00]\n [3.00000000e+00 9.73383878e-03]\n [4.00000000e+00 5.68191914e-02]\n [5.00000000e+00 0.00000000e+00]\n [6.00000000e+00 1.14278082e-02]\n [7.00000000e+00 1.87803493e-02]\n [8.00000000e+00 0.00000000e+00]\n [9.00000000e+00 0.00000000e+00]\n [1.00000000e+01 1.31534894e-02]\n [1.10000000e+01 1.64517867e-02]\n [1.20000000e+01 1.72858891e-02]\n [1.30000000e+01 5.51883747e-02]\n [1.40000000e+01 3.24459218e-02]\n [1.50000000e+01 8.76971237e-02]\n [1.60000000e+01 1.37251485e-02]\n [1.70000000e+01 4.80081801e-02]]\nMI computed score...\n[[0.00000000e+00 1.88209028e-04]\n [1.00000000e+00 7.01909504e-03]\n [2.00000000e+00 1.61875746e-02]\n [3.00000000e+00 1.22980916e-02]\n [4.00000000e+00 2.03806166e-03]\n [5.00000000e+00 4.60029255e-03]\n [6.00000000e+00 2.15048791e-02]\n [7.00000000e+00 5.11351150e-02]\n [8.00000000e+00 3.83921513e-03]\n [9.00000000e+00 1.56839675e-02]\n [1.00000000e+01 8.01318046e-03]\n [1.10000000e+01 2.98390218e-03]\n [1.20000000e+01 9.51334246e-03]\n [1.30000000e+01 2.12559238e-05]\n [1.40000000e+01 1.61779327e-02]\n [1.50000000e+01 4.67424303e-02]\n [1.60000000e+01 1.61424039e-02]\n [1.70000000e+01 3.80414048e-02]]\nOrdered according to MI\n[[1.30000000e+01 2.12559238e-05]\n [0.00000000e+00 1.88209028e-04]\n [4.00000000e+00 2.03806166e-03]\n [1.10000000e+01 2.98390218e-03]\n [8.00000000e+00 3.83921513e-03]\n [5.00000000e+00 4.60029255e-03]\n [1.00000000e+00 7.01909504e-03]\n [1.00000000e+01 8.01318046e-03]\n [1.20000000e+01 9.51334246e-03]\n [3.00000000e+00 1.22980916e-02]\n [9.00000000e+00 1.56839675e-02]\n [1.60000000e+01 1.61424039e-02]\n [1.40000000e+01 1.61779327e-02]\n [2.00000000e+00 1.61875746e-02]\n [6.00000000e+00 2.15048791e-02]\n [1.70000000e+01 3.80414048e-02]\n [1.50000000e+01 4.67424303e-02]\n [7.00000000e+00 5.11351150e-02]]\n-------------- Using mRMR   ---------------\n['OtherBot', 'MessagingPlatformTelegram', 'MessagingPlatformProvided', 'Age', 'GradesBot', 'FAQBot', 'Messaging Organization → Number of approaches considered', 'Discipline', 'MessagingPlatformOther', 'Gender']\n"
     ]
    },
    {
     "output_type": "execute_result",
     "data": {
      "text/plain": [
       "'\\n [3.00000000e+00 1.22980916e-02]\\n [9.00000000e+00 1.56839675e-02]\\n [1.60000000e+01 1.61424039e-02]\\n [1.40000000e+01 1.61779327e-02]\\n [2.00000000e+00 1.61875746e-02]\\n [6.00000000e+00 2.15048791e-02]\\n [1.70000000e+01 3.80414048e-02]\\n [1.50000000e+01 4.67424303e-02]\\n [7.00000000e+00 5.11351150e-02]\\n'"
      ]
     },
     "metadata": {},
     "execution_count": 2
    }
   ],
   "source": [
    "# set number of variables to be considered\n",
    "n_vars = 18\n",
    "\n",
    "datos = pd.read_csv('../data/survey-pilot-3-EN-maped.csv') # data discretised acording to feature_selec.py -> preprocess_datos\n",
    "\n",
    "X_ori = np.array(datos.iloc[:,0:-1])\n",
    "Y_ori = np.array(datos.iloc[:,-1]) # output is the last variable (post-covid changes)\n",
    "\n",
    "scaleX=StandardScaler()\n",
    "scaleY=StandardScaler()\n",
    "\n",
    "scaleX.fit(X_ori)\n",
    "X = scaleX.transform(X_ori)\n",
    "\n",
    "#scaleY.fit(Y_ori.reshape(-1,1))\n",
    "#Y = scaleY.transform(Y_ori.reshape(-1,1))\n",
    "Y_ori = Y_ori + 1\n",
    "Y = Y_ori.reshape(-1,1)\n",
    "\n",
    "#allperms = gen_all_combinations(n_vars)  -> not feasible due to n_vars\n",
    "\n",
    "#Let's compute the MI for each single variable\n",
    "list_single_mi = [] # to store values of MI for each single variable\n",
    "for i in range(n_vars):\n",
    "    print(\"Variable %d\" % i)\n",
    "    list_single_mi = np.append(list_single_mi,mutual_info_score(X[:,i],np.reshape(Y,-1))) \n",
    "  #  list_single_MI = np.append(list_single_mi,mutual_information(X[:,i],Y)) \n",
    "\n",
    "idx = np.array(range(n_vars))\n",
    "\n",
    "print(\" MI classification\")\n",
    "list_classif_MI = mutual_info_classif(X,Y)\n",
    "list_classif_MI = np.hstack((idx.reshape(-1,1), list_classif_MI.reshape(-1,1)))\n",
    "print(list_classif_MI)\n",
    "\n",
    "\n",
    "print(\"MI computed score...\")\n",
    "\n",
    "list_single_mi = np.hstack((idx.reshape(-1,1), list_single_mi.reshape(-1,1)))\n",
    "\n",
    "print(list_single_mi)\n",
    "\n",
    "#print(np.lexsort((list_single_mi[:,1],list_single_mi[:,0])))\n",
    "\n",
    "I = np.argsort(list_single_mi[:, 1]); b = list_single_mi[I,:]\n",
    "\n",
    "print(\"Ordered according to MI\")\n",
    "print(b)\n",
    "\n",
    "'''\n",
    "print(\"MI Gael's algorithm...\")\n",
    "idx = np.array(range(n_vars))\n",
    "\n",
    "list_single_MI = np.hstack((idx.reshape(-1,1), list_single_MI.reshape(-1,1)))\n",
    "\n",
    "print(list_single_MI)\n",
    "\n",
    "#print(np.lexsort((list_single_mi[:,1],list_single_mi[:,0])))\n",
    "\n",
    "I = np.argsort(list_single_MI[:, 1]); b = list_single_MI[I,:]\n",
    "\n",
    "print(\"Ordered according to Gael's MI\")\n",
    "print(b)\n",
    "\n",
    "'''\n",
    "\n",
    "print('-------------- Using mRMR   ---------------')\n",
    "print(pymrmr.mRMR(datos, 'MIQ', 10))\n",
    "\n",
    "\n",
    "\n",
    "#Features selected MI higher than 10e-2\n",
    "'''\n",
    " [3.00000000e+00 1.22980916e-02]\n",
    " [9.00000000e+00 1.56839675e-02]\n",
    " [1.60000000e+01 1.61424039e-02]\n",
    " [1.40000000e+01 1.61779327e-02]\n",
    " [2.00000000e+00 1.61875746e-02]\n",
    " [6.00000000e+00 2.15048791e-02]\n",
    " [1.70000000e+01 3.80414048e-02]\n",
    " [1.50000000e+01 4.67424303e-02]\n",
    " [7.00000000e+00 5.11351150e-02]\n",
    "'''\n",
    "\n"
   ]
  },
  {
   "source": [
    "*** MaxRel features ***\n",
    "Order    Fea     Name    Score\n",
    "1        13      OtherBot        0.072\n",
    "2        5       GradesBot       0.069\n",
    "3        2       Age     0.031\n",
    "4        4       FAQBot          0.027\n",
    "5        15      Messaging Organization → Number of approaches considered        0.020\n",
    "6        11      MessagingPlatformTelegram       0.013\n",
    "7        17      Discipline      0.007\n",
    "8        9       MessagingPlatformProvided       0.007\n",
    "9        6       Gender          0.003\n",
    "10       8       MessagingPlatformOther          0.003\n",
    "\n",
    "*** mRMR features *** \n",
    "Order    Fea     Name    Score\n",
    "1        13      OtherBot        0.072\n",
    "2        11      MessagingPlatformTelegram       47.895\n",
    "3        9       MessagingPlatformProvided       17.949\n",
    "4        2       Age     3.179\n",
    "5        5       GradesBot       3.536\n",
    "6        4       FAQBot          1.142\n",
    "7        15      Messaging Organization → Number of approaches considered        1.142\n",
    "8        17      Discipline      0.334\n",
    "9        8       MessagingPlatformOther          0.168\n",
    "10       6       Gender          0.174"
   ],
   "cell_type": "markdown",
   "metadata": {}
  },
  {
   "cell_type": "code",
   "execution_count": 3,
   "metadata": {},
   "outputs": [
    {
     "output_type": "stream",
     "name": "stdout",
     "text": [
      "Generating permutations... 2 \n",
      "Generating permutations... 3 \n",
      "Generating permutations... 4 \n",
      "Generating permutations... 5 \n",
      "Generating permutations... 6 \n",
      "Generating permutations... 7 \n",
      "Generating permutations... 8 \n",
      "Computing MI for all 511 combinations\n",
      "Iteration 49\n",
      "Best MI value 13.202651 for variables [0. 0. 0. 0. 1. 1. 1. 1. 1.]\n",
      "Iteration 99\n",
      "Best MI value 21.775021 for variables [0. 0. 0. 1. 1. 1. 1. 1. 1.]\n",
      "Iteration 149\n",
      "Best MI value 28.544251 for variables [0. 0. 1. 1. 1. 1. 1. 1. 1.]\n",
      "Iteration 199\n",
      "Best MI value 28.544251 for variables [0. 0. 1. 1. 1. 1. 1. 1. 1.]\n",
      "Iteration 249\n",
      "Best MI value 28.544251 for variables [0. 0. 1. 1. 1. 1. 1. 1. 1.]\n",
      "Iteration 299\n",
      "Best MI value 28.544251 for variables [0. 0. 1. 1. 1. 1. 1. 1. 1.]\n",
      "Iteration 349\n",
      "Best MI value 28.544251 for variables [0. 0. 1. 1. 1. 1. 1. 1. 1.]\n",
      "Iteration 399\n",
      "Best MI value 28.544251 for variables [0. 0. 1. 1. 1. 1. 1. 1. 1.]\n",
      "Iteration 449\n",
      "Best MI value 28.544251 for variables [0. 0. 1. 1. 1. 1. 1. 1. 1.]\n",
      "Iteration 499\n",
      "Best MI value 28.544251 for variables [0. 0. 1. 1. 1. 1. 1. 1. 1.]\n",
      "FINAL: Best MI value 28.544251 for variables [0. 0. 1. 1. 1. 1. 1. 1. 1.]\n"
     ]
    }
   ],
   "source": [
    "\n",
    "# Carry out brute force approach with 9 variables\n",
    "\n",
    "X_crop = X[:, [7, 15, 17, 6, 2, 14, 16, 9, 3]]\n",
    "\n",
    "\n",
    "#Then drop the ones with smaller MI and check brute force on the others\n",
    "\n",
    "allperms = gen_all_combinations(9) \n",
    "\n",
    "print(\"Computing MI for all %d combinations\" % len(allperms))\n",
    "\n",
    "list_mi=[]\n",
    "i=0\n",
    "while i<len(allperms):\n",
    "    # apply feature mask using booleans (indexes not correct), changed data type to float for data\n",
    "    list_mi = np.append(list_mi,abs(mutual_information((np.array(X_crop[:,allperms[i]==1], dtype='float32'),np.array(Y, dtype='float32')))))\n",
    "\n",
    "    if(np.mod(i+1,50)==0):\n",
    "        print(\"Iteration %d\" % i)\n",
    "        pos_max = np.argmax(list_mi)\n",
    "        print(\"Best MI value %f for variables %s\" % (list_mi[pos_max], allperms[pos_max]))\n",
    "\n",
    "\n",
    "    i+=1\n",
    "\n",
    "pos_max = np.argmax(list_mi)\n",
    "print(\"FINAL: Best MI value %f for variables %s\" % (list_mi[pos_max], allperms[pos_max]))\n",
    "\n",
    "\n",
    "# Best MI value 28.491724 for variables [0. 0. 1. 1. 1. 1. 1. 1. 1.]\n",
    "\n",
    "#                                       [x, x, 17, 6, 2, 14, 16, 9, 3]\n",
    "\n",
    "\n"
   ]
  },
  {
   "source": [
    "Let's build a model that tries to provide the same output using all the features, then the ones selected using MI..."
   ],
   "cell_type": "markdown",
   "metadata": {}
  },
  {
   "cell_type": "code",
   "execution_count": 4,
   "metadata": {},
   "outputs": [
    {
     "output_type": "stream",
     "name": "stdout",
     "text": [
      "Prediction accuracy using all featuers: 0.769504 \nPrediction accuracy using selected features: 0.677305 \nPrediction accuracy using max relevance: 0.613475 \nPrediction accuracy using mrmr: 0.599291 \n Clasif. report using all vars \n              precision    recall  f1-score   support\n\n           0       0.84      0.67      0.74        24\n           1       0.77      0.89      0.83       167\n           2       0.74      0.57      0.65        91\n\n    accuracy                           0.77       282\n   macro avg       0.79      0.71      0.74       282\nweighted avg       0.77      0.77      0.76       282\n\n Clasif. report using feature selection \n              precision    recall  f1-score   support\n\n           0       0.67      0.17      0.27        24\n           1       0.68      0.89      0.77       167\n           2       0.66      0.42      0.51        91\n\n    accuracy                           0.68       282\n   macro avg       0.67      0.49      0.52       282\nweighted avg       0.67      0.68      0.65       282\n\n Clasif. report using max relevance \n              precision    recall  f1-score   support\n\n           0       0.00      0.00      0.00        24\n           1       0.62      0.89      0.73       167\n           2       0.56      0.26      0.36        91\n\n    accuracy                           0.61       282\n   macro avg       0.39      0.39      0.36       282\nweighted avg       0.55      0.61      0.55       282\n\n Clasif. report using max relevance \n              precision    recall  f1-score   support\n\n           0       0.42      0.21      0.28        24\n           1       0.63      0.91      0.74       167\n           2       0.44      0.13      0.20        91\n\n    accuracy                           0.60       282\n   macro avg       0.50      0.42      0.41       282\nweighted avg       0.55      0.60      0.53       282\n\n"
     ]
    }
   ],
   "source": [
    "from sklearn.neural_network import MLPClassifier\n",
    "from sklearn.metrics import accuracy_score\n",
    "from sklearn.metrics import classification_report\n",
    "\n",
    "# very few data -> we don't use train/test, just look at accuracy in training TODO LOO-CV\n",
    "\n",
    "clf_all_vars = MLPClassifier(random_state=1, max_iter=500, hidden_layer_sizes=10).fit(X, Y)\n",
    "\n",
    "X_crop = X[:, [17, 6, 2, 14, 16, 9, 3]]\n",
    "\n",
    "clf_select_vars = MLPClassifier(random_state=1, max_iter=500, hidden_layer_sizes=10).fit(X_crop, Y)\n",
    "\n",
    "'''\n",
    "*** MaxRel features ***\n",
    "Order    Fea     Name    Score\n",
    "1        13      OtherBot        0.072\n",
    "2        5       GradesBot       0.069\n",
    "3        2       Age     0.031\n",
    "4        4       FAQBot          0.027\n",
    "5        15      Messaging Organization → Number of approaches considered        0.020\n",
    "6        11      MessagingPlatformTelegram       0.013\n",
    "'''\n",
    "\n",
    "X_crop_MR = X[:, [13, 5, 2, 4, 15, 11]]\n",
    "\n",
    "clf_max_rel = MLPClassifier(random_state=1, max_iter=500, hidden_layer_sizes=10).fit(X_crop_MR, Y)\n",
    "\n",
    "'''\n",
    "*** mRMR features *** \n",
    "Order    Fea     Name    Score\n",
    "1        13      OtherBot        0.072\n",
    "2        11      MessagingPlatformTelegram       47.895\n",
    "3        9       MessagingPlatformProvided       17.949\n",
    "4        2       Age     3.179\n",
    "5        5       GradesBot       3.536\n",
    "6        4       FAQBot          1.142\n",
    "7        15      Messaging Organization → Number of approaches considered        1.142\n",
    "'''\n",
    "\n",
    "X_crop_mRMR = X[:, [13, 11, 9, 2, 5, 4, 15]]\n",
    "\n",
    "clf_mrmr = MLPClassifier(random_state=1, max_iter=500, hidden_layer_sizes=10).fit(X_crop_mRMR, Y)\n",
    "\n",
    "\n",
    "print(\"Prediction accuracy using all featuers: %f \" % accuracy_score(Y,clf_all_vars.predict(X)) )\n",
    "print(\"Prediction accuracy using selected features: %f \" % accuracy_score(Y,clf_select_vars.predict(X_crop)) )\n",
    "print(\"Prediction accuracy using max relevance: %f \" % accuracy_score(Y,clf_max_rel.predict(X_crop_MR)) )\n",
    "print(\"Prediction accuracy using mrmr: %f \" % accuracy_score(Y,clf_mrmr.predict(X_crop_mRMR)) )\n",
    "\n",
    "\n",
    "print(\" Clasif. report using all vars \")\n",
    "print(classification_report(Y,clf_all_vars.predict(X)))\n",
    "\n",
    "print(\" Clasif. report using feature selection \")\n",
    "print(classification_report(Y,clf_select_vars.predict(X_crop)))\n",
    "\n",
    "print(\" Clasif. report using max relevance \")\n",
    "print(classification_report(Y,clf_max_rel.predict(X_crop_MR)))\n",
    "\n",
    "print(\" Clasif. report using max relevance \")\n",
    "print(classification_report(Y,clf_mrmr.predict(X_crop_mRMR)))"
   ]
  },
  {
   "source": [
    "# Let's try with XGBoost..."
   ],
   "cell_type": "markdown",
   "metadata": {}
  },
  {
   "cell_type": "code",
   "execution_count": 11,
   "metadata": {},
   "outputs": [
    {
     "output_type": "stream",
     "name": "stdout",
     "text": [
      "[11:07:56] WARNING: ../src/learner.cc:573: \n",
      "Parameters: { \"silent\" } might not be used.\n",
      "\n",
      "  This may not be accurate due to some parameters are only used in language bindings but\n",
      "  passed down to XGBoost core.  Or some parameters are not used but slip through this\n",
      "  verification. Please open an issue if you find above cases.\n",
      "\n",
      "\n",
      "[11:07:56] WARNING: ../src/learner.cc:1095: Starting in XGBoost 1.3.0, the default evaluation metric used with the objective 'multi:softmax' was changed from 'merror' to 'mlogloss'. Explicitly set eval_metric if you'd like to restore the old behavior.\n",
      "Prediction accuracy using XGBoost: 0.787234 \n",
      " Clasif. report using all vars \n",
      "              precision    recall  f1-score   support\n",
      "\n",
      "           0       0.93      0.54      0.68        24\n",
      "           1       0.76      0.93      0.84       167\n",
      "           2       0.83      0.58      0.68        91\n",
      "\n",
      "    accuracy                           0.79       282\n",
      "   macro avg       0.84      0.69      0.74       282\n",
      "weighted avg       0.80      0.79      0.78       282\n",
      "\n"
     ]
    },
    {
     "output_type": "execute_result",
     "data": {
      "text/plain": [
       "<AxesSubplot:title={'center':'Feature importance'}, xlabel='F score', ylabel='Features'>"
      ]
     },
     "metadata": {},
     "execution_count": 11
    },
    {
     "output_type": "display_data",
     "data": {
      "text/plain": "<Figure size 432x288 with 1 Axes>",
      "image/svg+xml": "<?xml version=\"1.0\" encoding=\"utf-8\" standalone=\"no\"?>\n<!DOCTYPE svg PUBLIC \"-//W3C//DTD SVG 1.1//EN\"\n  \"http://www.w3.org/Graphics/SVG/1.1/DTD/svg11.dtd\">\n<svg height=\"277.314375pt\" version=\"1.1\" viewBox=\"0 0 386.123437 277.314375\" width=\"386.123437pt\" xmlns=\"http://www.w3.org/2000/svg\" xmlns:xlink=\"http://www.w3.org/1999/xlink\">\n <metadata>\n  <rdf:RDF xmlns:cc=\"http://creativecommons.org/ns#\" xmlns:dc=\"http://purl.org/dc/elements/1.1/\" xmlns:rdf=\"http://www.w3.org/1999/02/22-rdf-syntax-ns#\">\n   <cc:Work>\n    <dc:type rdf:resource=\"http://purl.org/dc/dcmitype/StillImage\"/>\n    <dc:date>2021-06-26T11:07:57.674670</dc:date>\n    <dc:format>image/svg+xml</dc:format>\n    <dc:creator>\n     <cc:Agent>\n      <dc:title>Matplotlib v3.4.2, https://matplotlib.org/</dc:title>\n     </cc:Agent>\n    </dc:creator>\n   </cc:Work>\n  </rdf:RDF>\n </metadata>\n <defs>\n  <style type=\"text/css\">*{stroke-linecap:butt;stroke-linejoin:round;}</style>\n </defs>\n <g id=\"figure_1\">\n  <g id=\"patch_1\">\n   <path d=\"M 0 277.314375 \nL 386.123437 277.314375 \nL 386.123437 0 \nL 0 0 \nz\n\" style=\"fill:none;\"/>\n  </g>\n  <g id=\"axes_1\">\n   <g id=\"patch_2\">\n    <path d=\"M 44.123438 239.758125 \nL 378.923438 239.758125 \nL 378.923438 22.318125 \nL 44.123438 22.318125 \nz\n\" style=\"fill:#ffffff;\"/>\n   </g>\n   <g id=\"patch_3\">\n    <path clip-path=\"url(#p61c717b04e)\" d=\"M 44.123438 228.886125 \nL 50.24673 228.886125 \nL 50.24673 226.470125 \nL 44.123438 226.470125 \nz\n\" style=\"fill:#1f77b4;\"/>\n   </g>\n   <g id=\"patch_4\">\n    <path clip-path=\"url(#p61c717b04e)\" d=\"M 44.123438 216.806125 \nL 50.24673 216.806125 \nL 50.24673 214.390125 \nL 44.123438 214.390125 \nz\n\" style=\"fill:#1f77b4;\"/>\n   </g>\n   <g id=\"patch_5\">\n    <path clip-path=\"url(#p61c717b04e)\" d=\"M 44.123438 204.726125 \nL 51.687504 204.726125 \nL 51.687504 202.310125 \nL 44.123438 202.310125 \nz\n\" style=\"fill:#1f77b4;\"/>\n   </g>\n   <g id=\"patch_6\">\n    <path clip-path=\"url(#p61c717b04e)\" d=\"M 44.123438 192.646125 \nL 121.204879 192.646125 \nL 121.204879 190.230125 \nL 44.123438 190.230125 \nz\n\" style=\"fill:#1f77b4;\"/>\n   </g>\n   <g id=\"patch_7\">\n    <path clip-path=\"url(#p61c717b04e)\" d=\"M 44.123438 180.566125 \nL 131.650495 180.566125 \nL 131.650495 178.150125 \nL 44.123438 178.150125 \nz\n\" style=\"fill:#1f77b4;\"/>\n   </g>\n   <g id=\"patch_8\">\n    <path clip-path=\"url(#p61c717b04e)\" d=\"M 44.123438 168.486125 \nL 152.181533 168.486125 \nL 152.181533 166.070125 \nL 44.123438 166.070125 \nz\n\" style=\"fill:#1f77b4;\"/>\n   </g>\n   <g id=\"patch_9\">\n    <path clip-path=\"url(#p61c717b04e)\" d=\"M 44.123438 156.406125 \nL 153.622308 156.406125 \nL 153.622308 153.990125 \nL 44.123438 153.990125 \nz\n\" style=\"fill:#1f77b4;\"/>\n   </g>\n   <g id=\"patch_10\">\n    <path clip-path=\"url(#p61c717b04e)\" d=\"M 44.123438 144.326125 \nL 165.148505 144.326125 \nL 165.148505 141.910125 \nL 44.123438 141.910125 \nz\n\" style=\"fill:#1f77b4;\"/>\n   </g>\n   <g id=\"patch_11\">\n    <path clip-path=\"url(#p61c717b04e)\" d=\"M 44.123438 132.246125 \nL 184.238768 132.246125 \nL 184.238768 129.830125 \nL 44.123438 129.830125 \nz\n\" style=\"fill:#1f77b4;\"/>\n   </g>\n   <g id=\"patch_12\">\n    <path clip-path=\"url(#p61c717b04e)\" d=\"M 44.123438 120.166125 \nL 190.001867 120.166125 \nL 190.001867 117.750125 \nL 44.123438 117.750125 \nz\n\" style=\"fill:#1f77b4;\"/>\n   </g>\n   <g id=\"patch_13\">\n    <path clip-path=\"url(#p61c717b04e)\" d=\"M 44.123438 108.086125 \nL 213.774648 108.086125 \nL 213.774648 105.670125 \nL 44.123438 105.670125 \nz\n\" style=\"fill:#1f77b4;\"/>\n   </g>\n   <g id=\"patch_14\">\n    <path clip-path=\"url(#p61c717b04e)\" d=\"M 44.123438 96.006125 \nL 260.239629 96.006125 \nL 260.239629 93.590125 \nL 44.123438 93.590125 \nz\n\" style=\"fill:#1f77b4;\"/>\n   </g>\n   <g id=\"patch_15\">\n    <path clip-path=\"url(#p61c717b04e)\" d=\"M 44.123438 83.926125 \nL 260.239629 83.926125 \nL 260.239629 81.510125 \nL 44.123438 81.510125 \nz\n\" style=\"fill:#1f77b4;\"/>\n   </g>\n   <g id=\"patch_16\">\n    <path clip-path=\"url(#p61c717b04e)\" d=\"M 44.123438 71.846125 \nL 306.70461 71.846125 \nL 306.70461 69.430125 \nL 44.123438 69.430125 \nz\n\" style=\"fill:#1f77b4;\"/>\n   </g>\n   <g id=\"patch_17\">\n    <path clip-path=\"url(#p61c717b04e)\" d=\"M 44.123438 59.766125 \nL 314.989064 59.766125 \nL 314.989064 57.350125 \nL 44.123438 57.350125 \nz\n\" style=\"fill:#1f77b4;\"/>\n   </g>\n   <g id=\"patch_18\">\n    <path clip-path=\"url(#p61c717b04e)\" d=\"M 44.123438 47.686125 \nL 334.799715 47.686125 \nL 334.799715 45.270125 \nL 44.123438 45.270125 \nz\n\" style=\"fill:#1f77b4;\"/>\n   </g>\n   <g id=\"patch_19\">\n    <path clip-path=\"url(#p61c717b04e)\" d=\"M 44.123438 35.606125 \nL 348.487074 35.606125 \nL 348.487074 33.190125 \nL 44.123438 33.190125 \nz\n\" style=\"fill:#1f77b4;\"/>\n   </g>\n   <g id=\"matplotlib.axis_1\">\n    <g id=\"xtick_1\">\n     <g id=\"line2d_1\">\n      <path clip-path=\"url(#p61c717b04e)\" d=\"M 44.123438 239.758125 \nL 44.123438 22.318125 \n\" style=\"fill:none;stroke:#b0b0b0;stroke-linecap:square;stroke-width:0.8;\"/>\n     </g>\n     <g id=\"line2d_2\">\n      <defs>\n       <path d=\"M 0 0 \nL 0 3.5 \n\" id=\"m1a21509580\" style=\"stroke:#000000;stroke-width:0.8;\"/>\n      </defs>\n      <g>\n       <use style=\"stroke:#000000;stroke-width:0.8;\" x=\"44.123438\" xlink:href=\"#m1a21509580\" y=\"239.758125\"/>\n      </g>\n     </g>\n     <g id=\"text_1\">\n      <!-- 0 -->\n      <g transform=\"translate(40.942188 254.356562)scale(0.1 -0.1)\">\n       <defs>\n        <path d=\"M 2034 4250 \nQ 1547 4250 1301 3770 \nQ 1056 3291 1056 2328 \nQ 1056 1369 1301 889 \nQ 1547 409 2034 409 \nQ 2525 409 2770 889 \nQ 3016 1369 3016 2328 \nQ 3016 3291 2770 3770 \nQ 2525 4250 2034 4250 \nz\nM 2034 4750 \nQ 2819 4750 3233 4129 \nQ 3647 3509 3647 2328 \nQ 3647 1150 3233 529 \nQ 2819 -91 2034 -91 \nQ 1250 -91 836 529 \nQ 422 1150 422 2328 \nQ 422 3509 836 4129 \nQ 1250 4750 2034 4750 \nz\n\" id=\"DejaVuSans-30\" transform=\"scale(0.015625)\"/>\n       </defs>\n       <use xlink:href=\"#DejaVuSans-30\"/>\n      </g>\n     </g>\n    </g>\n    <g id=\"xtick_2\">\n     <g id=\"line2d_3\">\n      <path clip-path=\"url(#p61c717b04e)\" d=\"M 116.162168 239.758125 \nL 116.162168 22.318125 \n\" style=\"fill:none;stroke:#b0b0b0;stroke-linecap:square;stroke-width:0.8;\"/>\n     </g>\n     <g id=\"line2d_4\">\n      <g>\n       <use style=\"stroke:#000000;stroke-width:0.8;\" x=\"116.162168\" xlink:href=\"#m1a21509580\" y=\"239.758125\"/>\n      </g>\n     </g>\n     <g id=\"text_2\">\n      <!-- 200 -->\n      <g transform=\"translate(106.618418 254.356562)scale(0.1 -0.1)\">\n       <defs>\n        <path d=\"M 1228 531 \nL 3431 531 \nL 3431 0 \nL 469 0 \nL 469 531 \nQ 828 903 1448 1529 \nQ 2069 2156 2228 2338 \nQ 2531 2678 2651 2914 \nQ 2772 3150 2772 3378 \nQ 2772 3750 2511 3984 \nQ 2250 4219 1831 4219 \nQ 1534 4219 1204 4116 \nQ 875 4013 500 3803 \nL 500 4441 \nQ 881 4594 1212 4672 \nQ 1544 4750 1819 4750 \nQ 2544 4750 2975 4387 \nQ 3406 4025 3406 3419 \nQ 3406 3131 3298 2873 \nQ 3191 2616 2906 2266 \nQ 2828 2175 2409 1742 \nQ 1991 1309 1228 531 \nz\n\" id=\"DejaVuSans-32\" transform=\"scale(0.015625)\"/>\n       </defs>\n       <use xlink:href=\"#DejaVuSans-32\"/>\n       <use x=\"63.623047\" xlink:href=\"#DejaVuSans-30\"/>\n       <use x=\"127.246094\" xlink:href=\"#DejaVuSans-30\"/>\n      </g>\n     </g>\n    </g>\n    <g id=\"xtick_3\">\n     <g id=\"line2d_5\">\n      <path clip-path=\"url(#p61c717b04e)\" d=\"M 188.200899 239.758125 \nL 188.200899 22.318125 \n\" style=\"fill:none;stroke:#b0b0b0;stroke-linecap:square;stroke-width:0.8;\"/>\n     </g>\n     <g id=\"line2d_6\">\n      <g>\n       <use style=\"stroke:#000000;stroke-width:0.8;\" x=\"188.200899\" xlink:href=\"#m1a21509580\" y=\"239.758125\"/>\n      </g>\n     </g>\n     <g id=\"text_3\">\n      <!-- 400 -->\n      <g transform=\"translate(178.657149 254.356562)scale(0.1 -0.1)\">\n       <defs>\n        <path d=\"M 2419 4116 \nL 825 1625 \nL 2419 1625 \nL 2419 4116 \nz\nM 2253 4666 \nL 3047 4666 \nL 3047 1625 \nL 3713 1625 \nL 3713 1100 \nL 3047 1100 \nL 3047 0 \nL 2419 0 \nL 2419 1100 \nL 313 1100 \nL 313 1709 \nL 2253 4666 \nz\n\" id=\"DejaVuSans-34\" transform=\"scale(0.015625)\"/>\n       </defs>\n       <use xlink:href=\"#DejaVuSans-34\"/>\n       <use x=\"63.623047\" xlink:href=\"#DejaVuSans-30\"/>\n       <use x=\"127.246094\" xlink:href=\"#DejaVuSans-30\"/>\n      </g>\n     </g>\n    </g>\n    <g id=\"xtick_4\">\n     <g id=\"line2d_7\">\n      <path clip-path=\"url(#p61c717b04e)\" d=\"M 260.239629 239.758125 \nL 260.239629 22.318125 \n\" style=\"fill:none;stroke:#b0b0b0;stroke-linecap:square;stroke-width:0.8;\"/>\n     </g>\n     <g id=\"line2d_8\">\n      <g>\n       <use style=\"stroke:#000000;stroke-width:0.8;\" x=\"260.239629\" xlink:href=\"#m1a21509580\" y=\"239.758125\"/>\n      </g>\n     </g>\n     <g id=\"text_4\">\n      <!-- 600 -->\n      <g transform=\"translate(250.695879 254.356562)scale(0.1 -0.1)\">\n       <defs>\n        <path d=\"M 2113 2584 \nQ 1688 2584 1439 2293 \nQ 1191 2003 1191 1497 \nQ 1191 994 1439 701 \nQ 1688 409 2113 409 \nQ 2538 409 2786 701 \nQ 3034 994 3034 1497 \nQ 3034 2003 2786 2293 \nQ 2538 2584 2113 2584 \nz\nM 3366 4563 \nL 3366 3988 \nQ 3128 4100 2886 4159 \nQ 2644 4219 2406 4219 \nQ 1781 4219 1451 3797 \nQ 1122 3375 1075 2522 \nQ 1259 2794 1537 2939 \nQ 1816 3084 2150 3084 \nQ 2853 3084 3261 2657 \nQ 3669 2231 3669 1497 \nQ 3669 778 3244 343 \nQ 2819 -91 2113 -91 \nQ 1303 -91 875 529 \nQ 447 1150 447 2328 \nQ 447 3434 972 4092 \nQ 1497 4750 2381 4750 \nQ 2619 4750 2861 4703 \nQ 3103 4656 3366 4563 \nz\n\" id=\"DejaVuSans-36\" transform=\"scale(0.015625)\"/>\n       </defs>\n       <use xlink:href=\"#DejaVuSans-36\"/>\n       <use x=\"63.623047\" xlink:href=\"#DejaVuSans-30\"/>\n       <use x=\"127.246094\" xlink:href=\"#DejaVuSans-30\"/>\n      </g>\n     </g>\n    </g>\n    <g id=\"xtick_5\">\n     <g id=\"line2d_9\">\n      <path clip-path=\"url(#p61c717b04e)\" d=\"M 332.27836 239.758125 \nL 332.27836 22.318125 \n\" style=\"fill:none;stroke:#b0b0b0;stroke-linecap:square;stroke-width:0.8;\"/>\n     </g>\n     <g id=\"line2d_10\">\n      <g>\n       <use style=\"stroke:#000000;stroke-width:0.8;\" x=\"332.27836\" xlink:href=\"#m1a21509580\" y=\"239.758125\"/>\n      </g>\n     </g>\n     <g id=\"text_5\">\n      <!-- 800 -->\n      <g transform=\"translate(322.73461 254.356562)scale(0.1 -0.1)\">\n       <defs>\n        <path d=\"M 2034 2216 \nQ 1584 2216 1326 1975 \nQ 1069 1734 1069 1313 \nQ 1069 891 1326 650 \nQ 1584 409 2034 409 \nQ 2484 409 2743 651 \nQ 3003 894 3003 1313 \nQ 3003 1734 2745 1975 \nQ 2488 2216 2034 2216 \nz\nM 1403 2484 \nQ 997 2584 770 2862 \nQ 544 3141 544 3541 \nQ 544 4100 942 4425 \nQ 1341 4750 2034 4750 \nQ 2731 4750 3128 4425 \nQ 3525 4100 3525 3541 \nQ 3525 3141 3298 2862 \nQ 3072 2584 2669 2484 \nQ 3125 2378 3379 2068 \nQ 3634 1759 3634 1313 \nQ 3634 634 3220 271 \nQ 2806 -91 2034 -91 \nQ 1263 -91 848 271 \nQ 434 634 434 1313 \nQ 434 1759 690 2068 \nQ 947 2378 1403 2484 \nz\nM 1172 3481 \nQ 1172 3119 1398 2916 \nQ 1625 2713 2034 2713 \nQ 2441 2713 2670 2916 \nQ 2900 3119 2900 3481 \nQ 2900 3844 2670 4047 \nQ 2441 4250 2034 4250 \nQ 1625 4250 1398 4047 \nQ 1172 3844 1172 3481 \nz\n\" id=\"DejaVuSans-38\" transform=\"scale(0.015625)\"/>\n       </defs>\n       <use xlink:href=\"#DejaVuSans-38\"/>\n       <use x=\"63.623047\" xlink:href=\"#DejaVuSans-30\"/>\n       <use x=\"127.246094\" xlink:href=\"#DejaVuSans-30\"/>\n      </g>\n     </g>\n    </g>\n    <g id=\"text_6\">\n     <!-- F score -->\n     <g transform=\"translate(193.625781 268.034687)scale(0.1 -0.1)\">\n      <defs>\n       <path d=\"M 628 4666 \nL 3309 4666 \nL 3309 4134 \nL 1259 4134 \nL 1259 2759 \nL 3109 2759 \nL 3109 2228 \nL 1259 2228 \nL 1259 0 \nL 628 0 \nL 628 4666 \nz\n\" id=\"DejaVuSans-46\" transform=\"scale(0.015625)\"/>\n       <path id=\"DejaVuSans-20\" transform=\"scale(0.015625)\"/>\n       <path d=\"M 2834 3397 \nL 2834 2853 \nQ 2591 2978 2328 3040 \nQ 2066 3103 1784 3103 \nQ 1356 3103 1142 2972 \nQ 928 2841 928 2578 \nQ 928 2378 1081 2264 \nQ 1234 2150 1697 2047 \nL 1894 2003 \nQ 2506 1872 2764 1633 \nQ 3022 1394 3022 966 \nQ 3022 478 2636 193 \nQ 2250 -91 1575 -91 \nQ 1294 -91 989 -36 \nQ 684 19 347 128 \nL 347 722 \nQ 666 556 975 473 \nQ 1284 391 1588 391 \nQ 1994 391 2212 530 \nQ 2431 669 2431 922 \nQ 2431 1156 2273 1281 \nQ 2116 1406 1581 1522 \nL 1381 1569 \nQ 847 1681 609 1914 \nQ 372 2147 372 2553 \nQ 372 3047 722 3315 \nQ 1072 3584 1716 3584 \nQ 2034 3584 2315 3537 \nQ 2597 3491 2834 3397 \nz\n\" id=\"DejaVuSans-73\" transform=\"scale(0.015625)\"/>\n       <path d=\"M 3122 3366 \nL 3122 2828 \nQ 2878 2963 2633 3030 \nQ 2388 3097 2138 3097 \nQ 1578 3097 1268 2742 \nQ 959 2388 959 1747 \nQ 959 1106 1268 751 \nQ 1578 397 2138 397 \nQ 2388 397 2633 464 \nQ 2878 531 3122 666 \nL 3122 134 \nQ 2881 22 2623 -34 \nQ 2366 -91 2075 -91 \nQ 1284 -91 818 406 \nQ 353 903 353 1747 \nQ 353 2603 823 3093 \nQ 1294 3584 2113 3584 \nQ 2378 3584 2631 3529 \nQ 2884 3475 3122 3366 \nz\n\" id=\"DejaVuSans-63\" transform=\"scale(0.015625)\"/>\n       <path d=\"M 1959 3097 \nQ 1497 3097 1228 2736 \nQ 959 2375 959 1747 \nQ 959 1119 1226 758 \nQ 1494 397 1959 397 \nQ 2419 397 2687 759 \nQ 2956 1122 2956 1747 \nQ 2956 2369 2687 2733 \nQ 2419 3097 1959 3097 \nz\nM 1959 3584 \nQ 2709 3584 3137 3096 \nQ 3566 2609 3566 1747 \nQ 3566 888 3137 398 \nQ 2709 -91 1959 -91 \nQ 1206 -91 779 398 \nQ 353 888 353 1747 \nQ 353 2609 779 3096 \nQ 1206 3584 1959 3584 \nz\n\" id=\"DejaVuSans-6f\" transform=\"scale(0.015625)\"/>\n       <path d=\"M 2631 2963 \nQ 2534 3019 2420 3045 \nQ 2306 3072 2169 3072 \nQ 1681 3072 1420 2755 \nQ 1159 2438 1159 1844 \nL 1159 0 \nL 581 0 \nL 581 3500 \nL 1159 3500 \nL 1159 2956 \nQ 1341 3275 1631 3429 \nQ 1922 3584 2338 3584 \nQ 2397 3584 2469 3576 \nQ 2541 3569 2628 3553 \nL 2631 2963 \nz\n\" id=\"DejaVuSans-72\" transform=\"scale(0.015625)\"/>\n       <path d=\"M 3597 1894 \nL 3597 1613 \nL 953 1613 \nQ 991 1019 1311 708 \nQ 1631 397 2203 397 \nQ 2534 397 2845 478 \nQ 3156 559 3463 722 \nL 3463 178 \nQ 3153 47 2828 -22 \nQ 2503 -91 2169 -91 \nQ 1331 -91 842 396 \nQ 353 884 353 1716 \nQ 353 2575 817 3079 \nQ 1281 3584 2069 3584 \nQ 2775 3584 3186 3129 \nQ 3597 2675 3597 1894 \nz\nM 3022 2063 \nQ 3016 2534 2758 2815 \nQ 2500 3097 2075 3097 \nQ 1594 3097 1305 2825 \nQ 1016 2553 972 2059 \nL 3022 2063 \nz\n\" id=\"DejaVuSans-65\" transform=\"scale(0.015625)\"/>\n      </defs>\n      <use xlink:href=\"#DejaVuSans-46\"/>\n      <use x=\"57.519531\" xlink:href=\"#DejaVuSans-20\"/>\n      <use x=\"89.306641\" xlink:href=\"#DejaVuSans-73\"/>\n      <use x=\"141.40625\" xlink:href=\"#DejaVuSans-63\"/>\n      <use x=\"196.386719\" xlink:href=\"#DejaVuSans-6f\"/>\n      <use x=\"257.568359\" xlink:href=\"#DejaVuSans-72\"/>\n      <use x=\"296.431641\" xlink:href=\"#DejaVuSans-65\"/>\n     </g>\n    </g>\n   </g>\n   <g id=\"matplotlib.axis_2\">\n    <g id=\"ytick_1\">\n     <g id=\"line2d_11\">\n      <path clip-path=\"url(#p61c717b04e)\" d=\"M 44.123438 227.678125 \nL 378.923438 227.678125 \n\" style=\"fill:none;stroke:#b0b0b0;stroke-linecap:square;stroke-width:0.8;\"/>\n     </g>\n     <g id=\"line2d_12\">\n      <defs>\n       <path d=\"M 0 0 \nL -3.5 0 \n\" id=\"m63f5caefa9\" style=\"stroke:#000000;stroke-width:0.8;\"/>\n      </defs>\n      <g>\n       <use style=\"stroke:#000000;stroke-width:0.8;\" x=\"44.123438\" xlink:href=\"#m63f5caefa9\" y=\"227.678125\"/>\n      </g>\n     </g>\n     <g id=\"text_7\">\n      <!-- f11 -->\n      <g transform=\"translate(20.878125 231.477344)scale(0.1 -0.1)\">\n       <defs>\n        <path d=\"M 2375 4863 \nL 2375 4384 \nL 1825 4384 \nQ 1516 4384 1395 4259 \nQ 1275 4134 1275 3809 \nL 1275 3500 \nL 2222 3500 \nL 2222 3053 \nL 1275 3053 \nL 1275 0 \nL 697 0 \nL 697 3053 \nL 147 3053 \nL 147 3500 \nL 697 3500 \nL 697 3744 \nQ 697 4328 969 4595 \nQ 1241 4863 1831 4863 \nL 2375 4863 \nz\n\" id=\"DejaVuSans-66\" transform=\"scale(0.015625)\"/>\n        <path d=\"M 794 531 \nL 1825 531 \nL 1825 4091 \nL 703 3866 \nL 703 4441 \nL 1819 4666 \nL 2450 4666 \nL 2450 531 \nL 3481 531 \nL 3481 0 \nL 794 0 \nL 794 531 \nz\n\" id=\"DejaVuSans-31\" transform=\"scale(0.015625)\"/>\n       </defs>\n       <use xlink:href=\"#DejaVuSans-66\"/>\n       <use x=\"35.205078\" xlink:href=\"#DejaVuSans-31\"/>\n       <use x=\"98.828125\" xlink:href=\"#DejaVuSans-31\"/>\n      </g>\n     </g>\n    </g>\n    <g id=\"ytick_2\">\n     <g id=\"line2d_13\">\n      <path clip-path=\"url(#p61c717b04e)\" d=\"M 44.123438 215.598125 \nL 378.923438 215.598125 \n\" style=\"fill:none;stroke:#b0b0b0;stroke-linecap:square;stroke-width:0.8;\"/>\n     </g>\n     <g id=\"line2d_14\">\n      <g>\n       <use style=\"stroke:#000000;stroke-width:0.8;\" x=\"44.123438\" xlink:href=\"#m63f5caefa9\" y=\"215.598125\"/>\n      </g>\n     </g>\n     <g id=\"text_8\">\n      <!-- f9 -->\n      <g transform=\"translate(27.240625 219.397344)scale(0.1 -0.1)\">\n       <defs>\n        <path d=\"M 703 97 \nL 703 672 \nQ 941 559 1184 500 \nQ 1428 441 1663 441 \nQ 2288 441 2617 861 \nQ 2947 1281 2994 2138 \nQ 2813 1869 2534 1725 \nQ 2256 1581 1919 1581 \nQ 1219 1581 811 2004 \nQ 403 2428 403 3163 \nQ 403 3881 828 4315 \nQ 1253 4750 1959 4750 \nQ 2769 4750 3195 4129 \nQ 3622 3509 3622 2328 \nQ 3622 1225 3098 567 \nQ 2575 -91 1691 -91 \nQ 1453 -91 1209 -44 \nQ 966 3 703 97 \nz\nM 1959 2075 \nQ 2384 2075 2632 2365 \nQ 2881 2656 2881 3163 \nQ 2881 3666 2632 3958 \nQ 2384 4250 1959 4250 \nQ 1534 4250 1286 3958 \nQ 1038 3666 1038 3163 \nQ 1038 2656 1286 2365 \nQ 1534 2075 1959 2075 \nz\n\" id=\"DejaVuSans-39\" transform=\"scale(0.015625)\"/>\n       </defs>\n       <use xlink:href=\"#DejaVuSans-66\"/>\n       <use x=\"35.205078\" xlink:href=\"#DejaVuSans-39\"/>\n      </g>\n     </g>\n    </g>\n    <g id=\"ytick_3\">\n     <g id=\"line2d_15\">\n      <path clip-path=\"url(#p61c717b04e)\" d=\"M 44.123438 203.518125 \nL 378.923438 203.518125 \n\" style=\"fill:none;stroke:#b0b0b0;stroke-linecap:square;stroke-width:0.8;\"/>\n     </g>\n     <g id=\"line2d_16\">\n      <g>\n       <use style=\"stroke:#000000;stroke-width:0.8;\" x=\"44.123438\" xlink:href=\"#m63f5caefa9\" y=\"203.518125\"/>\n      </g>\n     </g>\n     <g id=\"text_9\">\n      <!-- f13 -->\n      <g transform=\"translate(20.878125 207.317344)scale(0.1 -0.1)\">\n       <defs>\n        <path d=\"M 2597 2516 \nQ 3050 2419 3304 2112 \nQ 3559 1806 3559 1356 \nQ 3559 666 3084 287 \nQ 2609 -91 1734 -91 \nQ 1441 -91 1130 -33 \nQ 819 25 488 141 \nL 488 750 \nQ 750 597 1062 519 \nQ 1375 441 1716 441 \nQ 2309 441 2620 675 \nQ 2931 909 2931 1356 \nQ 2931 1769 2642 2001 \nQ 2353 2234 1838 2234 \nL 1294 2234 \nL 1294 2753 \nL 1863 2753 \nQ 2328 2753 2575 2939 \nQ 2822 3125 2822 3475 \nQ 2822 3834 2567 4026 \nQ 2313 4219 1838 4219 \nQ 1578 4219 1281 4162 \nQ 984 4106 628 3988 \nL 628 4550 \nQ 988 4650 1302 4700 \nQ 1616 4750 1894 4750 \nQ 2613 4750 3031 4423 \nQ 3450 4097 3450 3541 \nQ 3450 3153 3228 2886 \nQ 3006 2619 2597 2516 \nz\n\" id=\"DejaVuSans-33\" transform=\"scale(0.015625)\"/>\n       </defs>\n       <use xlink:href=\"#DejaVuSans-66\"/>\n       <use x=\"35.205078\" xlink:href=\"#DejaVuSans-31\"/>\n       <use x=\"98.828125\" xlink:href=\"#DejaVuSans-33\"/>\n      </g>\n     </g>\n    </g>\n    <g id=\"ytick_4\">\n     <g id=\"line2d_17\">\n      <path clip-path=\"url(#p61c717b04e)\" d=\"M 44.123438 191.438125 \nL 378.923438 191.438125 \n\" style=\"fill:none;stroke:#b0b0b0;stroke-linecap:square;stroke-width:0.8;\"/>\n     </g>\n     <g id=\"line2d_18\">\n      <g>\n       <use style=\"stroke:#000000;stroke-width:0.8;\" x=\"44.123438\" xlink:href=\"#m63f5caefa9\" y=\"191.438125\"/>\n      </g>\n     </g>\n     <g id=\"text_10\">\n      <!-- f4 -->\n      <g transform=\"translate(27.240625 195.237344)scale(0.1 -0.1)\">\n       <use xlink:href=\"#DejaVuSans-66\"/>\n       <use x=\"35.205078\" xlink:href=\"#DejaVuSans-34\"/>\n      </g>\n     </g>\n    </g>\n    <g id=\"ytick_5\">\n     <g id=\"line2d_19\">\n      <path clip-path=\"url(#p61c717b04e)\" d=\"M 44.123438 179.358125 \nL 378.923438 179.358125 \n\" style=\"fill:none;stroke:#b0b0b0;stroke-linecap:square;stroke-width:0.8;\"/>\n     </g>\n     <g id=\"line2d_20\">\n      <g>\n       <use style=\"stroke:#000000;stroke-width:0.8;\" x=\"44.123438\" xlink:href=\"#m63f5caefa9\" y=\"179.358125\"/>\n      </g>\n     </g>\n     <g id=\"text_11\">\n      <!-- f0 -->\n      <g transform=\"translate(27.240625 183.157344)scale(0.1 -0.1)\">\n       <use xlink:href=\"#DejaVuSans-66\"/>\n       <use x=\"35.205078\" xlink:href=\"#DejaVuSans-30\"/>\n      </g>\n     </g>\n    </g>\n    <g id=\"ytick_6\">\n     <g id=\"line2d_21\">\n      <path clip-path=\"url(#p61c717b04e)\" d=\"M 44.123438 167.278125 \nL 378.923438 167.278125 \n\" style=\"fill:none;stroke:#b0b0b0;stroke-linecap:square;stroke-width:0.8;\"/>\n     </g>\n     <g id=\"line2d_22\">\n      <g>\n       <use style=\"stroke:#000000;stroke-width:0.8;\" x=\"44.123438\" xlink:href=\"#m63f5caefa9\" y=\"167.278125\"/>\n      </g>\n     </g>\n     <g id=\"text_12\">\n      <!-- f5 -->\n      <g transform=\"translate(27.240625 171.077344)scale(0.1 -0.1)\">\n       <defs>\n        <path d=\"M 691 4666 \nL 3169 4666 \nL 3169 4134 \nL 1269 4134 \nL 1269 2991 \nQ 1406 3038 1543 3061 \nQ 1681 3084 1819 3084 \nQ 2600 3084 3056 2656 \nQ 3513 2228 3513 1497 \nQ 3513 744 3044 326 \nQ 2575 -91 1722 -91 \nQ 1428 -91 1123 -41 \nQ 819 9 494 109 \nL 494 744 \nQ 775 591 1075 516 \nQ 1375 441 1709 441 \nQ 2250 441 2565 725 \nQ 2881 1009 2881 1497 \nQ 2881 1984 2565 2268 \nQ 2250 2553 1709 2553 \nQ 1456 2553 1204 2497 \nQ 953 2441 691 2322 \nL 691 4666 \nz\n\" id=\"DejaVuSans-35\" transform=\"scale(0.015625)\"/>\n       </defs>\n       <use xlink:href=\"#DejaVuSans-66\"/>\n       <use x=\"35.205078\" xlink:href=\"#DejaVuSans-35\"/>\n      </g>\n     </g>\n    </g>\n    <g id=\"ytick_7\">\n     <g id=\"line2d_23\">\n      <path clip-path=\"url(#p61c717b04e)\" d=\"M 44.123438 155.198125 \nL 378.923438 155.198125 \n\" style=\"fill:none;stroke:#b0b0b0;stroke-linecap:square;stroke-width:0.8;\"/>\n     </g>\n     <g id=\"line2d_24\">\n      <g>\n       <use style=\"stroke:#000000;stroke-width:0.8;\" x=\"44.123438\" xlink:href=\"#m63f5caefa9\" y=\"155.198125\"/>\n      </g>\n     </g>\n     <g id=\"text_13\">\n      <!-- f3 -->\n      <g transform=\"translate(27.240625 158.997344)scale(0.1 -0.1)\">\n       <use xlink:href=\"#DejaVuSans-66\"/>\n       <use x=\"35.205078\" xlink:href=\"#DejaVuSans-33\"/>\n      </g>\n     </g>\n    </g>\n    <g id=\"ytick_8\">\n     <g id=\"line2d_25\">\n      <path clip-path=\"url(#p61c717b04e)\" d=\"M 44.123438 143.118125 \nL 378.923438 143.118125 \n\" style=\"fill:none;stroke:#b0b0b0;stroke-linecap:square;stroke-width:0.8;\"/>\n     </g>\n     <g id=\"line2d_26\">\n      <g>\n       <use style=\"stroke:#000000;stroke-width:0.8;\" x=\"44.123438\" xlink:href=\"#m63f5caefa9\" y=\"143.118125\"/>\n      </g>\n     </g>\n     <g id=\"text_14\">\n      <!-- f1 -->\n      <g transform=\"translate(27.240625 146.917344)scale(0.1 -0.1)\">\n       <use xlink:href=\"#DejaVuSans-66\"/>\n       <use x=\"35.205078\" xlink:href=\"#DejaVuSans-31\"/>\n      </g>\n     </g>\n    </g>\n    <g id=\"ytick_9\">\n     <g id=\"line2d_27\">\n      <path clip-path=\"url(#p61c717b04e)\" d=\"M 44.123438 131.038125 \nL 378.923438 131.038125 \n\" style=\"fill:none;stroke:#b0b0b0;stroke-linecap:square;stroke-width:0.8;\"/>\n     </g>\n     <g id=\"line2d_28\">\n      <g>\n       <use style=\"stroke:#000000;stroke-width:0.8;\" x=\"44.123438\" xlink:href=\"#m63f5caefa9\" y=\"131.038125\"/>\n      </g>\n     </g>\n     <g id=\"text_15\">\n      <!-- f8 -->\n      <g transform=\"translate(27.240625 134.837344)scale(0.1 -0.1)\">\n       <use xlink:href=\"#DejaVuSans-66\"/>\n       <use x=\"35.205078\" xlink:href=\"#DejaVuSans-38\"/>\n      </g>\n     </g>\n    </g>\n    <g id=\"ytick_10\">\n     <g id=\"line2d_29\">\n      <path clip-path=\"url(#p61c717b04e)\" d=\"M 44.123438 118.958125 \nL 378.923438 118.958125 \n\" style=\"fill:none;stroke:#b0b0b0;stroke-linecap:square;stroke-width:0.8;\"/>\n     </g>\n     <g id=\"line2d_30\">\n      <g>\n       <use style=\"stroke:#000000;stroke-width:0.8;\" x=\"44.123438\" xlink:href=\"#m63f5caefa9\" y=\"118.958125\"/>\n      </g>\n     </g>\n     <g id=\"text_16\">\n      <!-- f12 -->\n      <g transform=\"translate(20.878125 122.757344)scale(0.1 -0.1)\">\n       <use xlink:href=\"#DejaVuSans-66\"/>\n       <use x=\"35.205078\" xlink:href=\"#DejaVuSans-31\"/>\n       <use x=\"98.828125\" xlink:href=\"#DejaVuSans-32\"/>\n      </g>\n     </g>\n    </g>\n    <g id=\"ytick_11\">\n     <g id=\"line2d_31\">\n      <path clip-path=\"url(#p61c717b04e)\" d=\"M 44.123438 106.878125 \nL 378.923438 106.878125 \n\" style=\"fill:none;stroke:#b0b0b0;stroke-linecap:square;stroke-width:0.8;\"/>\n     </g>\n     <g id=\"line2d_32\">\n      <g>\n       <use style=\"stroke:#000000;stroke-width:0.8;\" x=\"44.123438\" xlink:href=\"#m63f5caefa9\" y=\"106.878125\"/>\n      </g>\n     </g>\n     <g id=\"text_17\">\n      <!-- f6 -->\n      <g transform=\"translate(27.240625 110.677344)scale(0.1 -0.1)\">\n       <use xlink:href=\"#DejaVuSans-66\"/>\n       <use x=\"35.205078\" xlink:href=\"#DejaVuSans-36\"/>\n      </g>\n     </g>\n    </g>\n    <g id=\"ytick_12\">\n     <g id=\"line2d_33\">\n      <path clip-path=\"url(#p61c717b04e)\" d=\"M 44.123438 94.798125 \nL 378.923438 94.798125 \n\" style=\"fill:none;stroke:#b0b0b0;stroke-linecap:square;stroke-width:0.8;\"/>\n     </g>\n     <g id=\"line2d_34\">\n      <g>\n       <use style=\"stroke:#000000;stroke-width:0.8;\" x=\"44.123438\" xlink:href=\"#m63f5caefa9\" y=\"94.798125\"/>\n      </g>\n     </g>\n     <g id=\"text_18\">\n      <!-- f7 -->\n      <g transform=\"translate(27.240625 98.597344)scale(0.1 -0.1)\">\n       <defs>\n        <path d=\"M 525 4666 \nL 3525 4666 \nL 3525 4397 \nL 1831 0 \nL 1172 0 \nL 2766 4134 \nL 525 4134 \nL 525 4666 \nz\n\" id=\"DejaVuSans-37\" transform=\"scale(0.015625)\"/>\n       </defs>\n       <use xlink:href=\"#DejaVuSans-66\"/>\n       <use x=\"35.205078\" xlink:href=\"#DejaVuSans-37\"/>\n      </g>\n     </g>\n    </g>\n    <g id=\"ytick_13\">\n     <g id=\"line2d_35\">\n      <path clip-path=\"url(#p61c717b04e)\" d=\"M 44.123438 82.718125 \nL 378.923438 82.718125 \n\" style=\"fill:none;stroke:#b0b0b0;stroke-linecap:square;stroke-width:0.8;\"/>\n     </g>\n     <g id=\"line2d_36\">\n      <g>\n       <use style=\"stroke:#000000;stroke-width:0.8;\" x=\"44.123438\" xlink:href=\"#m63f5caefa9\" y=\"82.718125\"/>\n      </g>\n     </g>\n     <g id=\"text_19\">\n      <!-- f2 -->\n      <g transform=\"translate(27.240625 86.517344)scale(0.1 -0.1)\">\n       <use xlink:href=\"#DejaVuSans-66\"/>\n       <use x=\"35.205078\" xlink:href=\"#DejaVuSans-32\"/>\n      </g>\n     </g>\n    </g>\n    <g id=\"ytick_14\">\n     <g id=\"line2d_37\">\n      <path clip-path=\"url(#p61c717b04e)\" d=\"M 44.123438 70.638125 \nL 378.923438 70.638125 \n\" style=\"fill:none;stroke:#b0b0b0;stroke-linecap:square;stroke-width:0.8;\"/>\n     </g>\n     <g id=\"line2d_38\">\n      <g>\n       <use style=\"stroke:#000000;stroke-width:0.8;\" x=\"44.123438\" xlink:href=\"#m63f5caefa9\" y=\"70.638125\"/>\n      </g>\n     </g>\n     <g id=\"text_20\">\n      <!-- f14 -->\n      <g transform=\"translate(20.878125 74.437344)scale(0.1 -0.1)\">\n       <use xlink:href=\"#DejaVuSans-66\"/>\n       <use x=\"35.205078\" xlink:href=\"#DejaVuSans-31\"/>\n       <use x=\"98.828125\" xlink:href=\"#DejaVuSans-34\"/>\n      </g>\n     </g>\n    </g>\n    <g id=\"ytick_15\">\n     <g id=\"line2d_39\">\n      <path clip-path=\"url(#p61c717b04e)\" d=\"M 44.123438 58.558125 \nL 378.923438 58.558125 \n\" style=\"fill:none;stroke:#b0b0b0;stroke-linecap:square;stroke-width:0.8;\"/>\n     </g>\n     <g id=\"line2d_40\">\n      <g>\n       <use style=\"stroke:#000000;stroke-width:0.8;\" x=\"44.123438\" xlink:href=\"#m63f5caefa9\" y=\"58.558125\"/>\n      </g>\n     </g>\n     <g id=\"text_21\">\n      <!-- f17 -->\n      <g transform=\"translate(20.878125 62.357344)scale(0.1 -0.1)\">\n       <use xlink:href=\"#DejaVuSans-66\"/>\n       <use x=\"35.205078\" xlink:href=\"#DejaVuSans-31\"/>\n       <use x=\"98.828125\" xlink:href=\"#DejaVuSans-37\"/>\n      </g>\n     </g>\n    </g>\n    <g id=\"ytick_16\">\n     <g id=\"line2d_41\">\n      <path clip-path=\"url(#p61c717b04e)\" d=\"M 44.123438 46.478125 \nL 378.923438 46.478125 \n\" style=\"fill:none;stroke:#b0b0b0;stroke-linecap:square;stroke-width:0.8;\"/>\n     </g>\n     <g id=\"line2d_42\">\n      <g>\n       <use style=\"stroke:#000000;stroke-width:0.8;\" x=\"44.123438\" xlink:href=\"#m63f5caefa9\" y=\"46.478125\"/>\n      </g>\n     </g>\n     <g id=\"text_22\">\n      <!-- f16 -->\n      <g transform=\"translate(20.878125 50.277344)scale(0.1 -0.1)\">\n       <use xlink:href=\"#DejaVuSans-66\"/>\n       <use x=\"35.205078\" xlink:href=\"#DejaVuSans-31\"/>\n       <use x=\"98.828125\" xlink:href=\"#DejaVuSans-36\"/>\n      </g>\n     </g>\n    </g>\n    <g id=\"ytick_17\">\n     <g id=\"line2d_43\">\n      <path clip-path=\"url(#p61c717b04e)\" d=\"M 44.123438 34.398125 \nL 378.923438 34.398125 \n\" style=\"fill:none;stroke:#b0b0b0;stroke-linecap:square;stroke-width:0.8;\"/>\n     </g>\n     <g id=\"line2d_44\">\n      <g>\n       <use style=\"stroke:#000000;stroke-width:0.8;\" x=\"44.123438\" xlink:href=\"#m63f5caefa9\" y=\"34.398125\"/>\n      </g>\n     </g>\n     <g id=\"text_23\">\n      <!-- f15 -->\n      <g transform=\"translate(20.878125 38.197344)scale(0.1 -0.1)\">\n       <use xlink:href=\"#DejaVuSans-66\"/>\n       <use x=\"35.205078\" xlink:href=\"#DejaVuSans-31\"/>\n       <use x=\"98.828125\" xlink:href=\"#DejaVuSans-35\"/>\n      </g>\n     </g>\n    </g>\n    <g id=\"text_24\">\n     <!-- Features -->\n     <g transform=\"translate(14.798438 152.532656)rotate(-90)scale(0.1 -0.1)\">\n      <defs>\n       <path d=\"M 2194 1759 \nQ 1497 1759 1228 1600 \nQ 959 1441 959 1056 \nQ 959 750 1161 570 \nQ 1363 391 1709 391 \nQ 2188 391 2477 730 \nQ 2766 1069 2766 1631 \nL 2766 1759 \nL 2194 1759 \nz\nM 3341 1997 \nL 3341 0 \nL 2766 0 \nL 2766 531 \nQ 2569 213 2275 61 \nQ 1981 -91 1556 -91 \nQ 1019 -91 701 211 \nQ 384 513 384 1019 \nQ 384 1609 779 1909 \nQ 1175 2209 1959 2209 \nL 2766 2209 \nL 2766 2266 \nQ 2766 2663 2505 2880 \nQ 2244 3097 1772 3097 \nQ 1472 3097 1187 3025 \nQ 903 2953 641 2809 \nL 641 3341 \nQ 956 3463 1253 3523 \nQ 1550 3584 1831 3584 \nQ 2591 3584 2966 3190 \nQ 3341 2797 3341 1997 \nz\n\" id=\"DejaVuSans-61\" transform=\"scale(0.015625)\"/>\n       <path d=\"M 1172 4494 \nL 1172 3500 \nL 2356 3500 \nL 2356 3053 \nL 1172 3053 \nL 1172 1153 \nQ 1172 725 1289 603 \nQ 1406 481 1766 481 \nL 2356 481 \nL 2356 0 \nL 1766 0 \nQ 1100 0 847 248 \nQ 594 497 594 1153 \nL 594 3053 \nL 172 3053 \nL 172 3500 \nL 594 3500 \nL 594 4494 \nL 1172 4494 \nz\n\" id=\"DejaVuSans-74\" transform=\"scale(0.015625)\"/>\n       <path d=\"M 544 1381 \nL 544 3500 \nL 1119 3500 \nL 1119 1403 \nQ 1119 906 1312 657 \nQ 1506 409 1894 409 \nQ 2359 409 2629 706 \nQ 2900 1003 2900 1516 \nL 2900 3500 \nL 3475 3500 \nL 3475 0 \nL 2900 0 \nL 2900 538 \nQ 2691 219 2414 64 \nQ 2138 -91 1772 -91 \nQ 1169 -91 856 284 \nQ 544 659 544 1381 \nz\nM 1991 3584 \nL 1991 3584 \nz\n\" id=\"DejaVuSans-75\" transform=\"scale(0.015625)\"/>\n      </defs>\n      <use xlink:href=\"#DejaVuSans-46\"/>\n      <use x=\"52.019531\" xlink:href=\"#DejaVuSans-65\"/>\n      <use x=\"113.542969\" xlink:href=\"#DejaVuSans-61\"/>\n      <use x=\"174.822266\" xlink:href=\"#DejaVuSans-74\"/>\n      <use x=\"214.03125\" xlink:href=\"#DejaVuSans-75\"/>\n      <use x=\"277.410156\" xlink:href=\"#DejaVuSans-72\"/>\n      <use x=\"316.273438\" xlink:href=\"#DejaVuSans-65\"/>\n      <use x=\"377.796875\" xlink:href=\"#DejaVuSans-73\"/>\n     </g>\n    </g>\n   </g>\n   <g id=\"patch_20\">\n    <path d=\"M 44.123438 239.758125 \nL 44.123438 22.318125 \n\" style=\"fill:none;stroke:#000000;stroke-linecap:square;stroke-linejoin:miter;stroke-width:0.8;\"/>\n   </g>\n   <g id=\"patch_21\">\n    <path d=\"M 378.923438 239.758125 \nL 378.923438 22.318125 \n\" style=\"fill:none;stroke:#000000;stroke-linecap:square;stroke-linejoin:miter;stroke-width:0.8;\"/>\n   </g>\n   <g id=\"patch_22\">\n    <path d=\"M 44.123438 239.758125 \nL 378.923438 239.758125 \n\" style=\"fill:none;stroke:#000000;stroke-linecap:square;stroke-linejoin:miter;stroke-width:0.8;\"/>\n   </g>\n   <g id=\"patch_23\">\n    <path d=\"M 44.123438 22.318125 \nL 378.923438 22.318125 \n\" style=\"fill:none;stroke:#000000;stroke-linecap:square;stroke-linejoin:miter;stroke-width:0.8;\"/>\n   </g>\n   <g id=\"text_25\">\n    <!-- 17 -->\n    <g transform=\"translate(50.606923 230.4375)scale(0.1 -0.1)\">\n     <use xlink:href=\"#DejaVuSans-31\"/>\n     <use x=\"63.623047\" xlink:href=\"#DejaVuSans-37\"/>\n    </g>\n   </g>\n   <g id=\"text_26\">\n    <!-- 17 -->\n    <g transform=\"translate(50.606923 218.3575)scale(0.1 -0.1)\">\n     <use xlink:href=\"#DejaVuSans-31\"/>\n     <use x=\"63.623047\" xlink:href=\"#DejaVuSans-37\"/>\n    </g>\n   </g>\n   <g id=\"text_27\">\n    <!-- 21 -->\n    <g transform=\"translate(52.047698 206.2775)scale(0.1 -0.1)\">\n     <use xlink:href=\"#DejaVuSans-32\"/>\n     <use x=\"63.623047\" xlink:href=\"#DejaVuSans-31\"/>\n    </g>\n   </g>\n   <g id=\"text_28\">\n    <!-- 214 -->\n    <g transform=\"translate(121.565073 194.1975)scale(0.1 -0.1)\">\n     <use xlink:href=\"#DejaVuSans-32\"/>\n     <use x=\"63.623047\" xlink:href=\"#DejaVuSans-31\"/>\n     <use x=\"127.246094\" xlink:href=\"#DejaVuSans-34\"/>\n    </g>\n   </g>\n   <g id=\"text_29\">\n    <!-- 243 -->\n    <g transform=\"translate(132.010689 182.1175)scale(0.1 -0.1)\">\n     <use xlink:href=\"#DejaVuSans-32\"/>\n     <use x=\"63.623047\" xlink:href=\"#DejaVuSans-34\"/>\n     <use x=\"127.246094\" xlink:href=\"#DejaVuSans-33\"/>\n    </g>\n   </g>\n   <g id=\"text_30\">\n    <!-- 300 -->\n    <g transform=\"translate(152.541727 170.0375)scale(0.1 -0.1)\">\n     <use xlink:href=\"#DejaVuSans-33\"/>\n     <use x=\"63.623047\" xlink:href=\"#DejaVuSans-30\"/>\n     <use x=\"127.246094\" xlink:href=\"#DejaVuSans-30\"/>\n    </g>\n   </g>\n   <g id=\"text_31\">\n    <!-- 304 -->\n    <g transform=\"translate(153.982502 157.9575)scale(0.1 -0.1)\">\n     <use xlink:href=\"#DejaVuSans-33\"/>\n     <use x=\"63.623047\" xlink:href=\"#DejaVuSans-30\"/>\n     <use x=\"127.246094\" xlink:href=\"#DejaVuSans-34\"/>\n    </g>\n   </g>\n   <g id=\"text_32\">\n    <!-- 336 -->\n    <g transform=\"translate(165.508698 145.8775)scale(0.1 -0.1)\">\n     <use xlink:href=\"#DejaVuSans-33\"/>\n     <use x=\"63.623047\" xlink:href=\"#DejaVuSans-33\"/>\n     <use x=\"127.246094\" xlink:href=\"#DejaVuSans-36\"/>\n    </g>\n   </g>\n   <g id=\"text_33\">\n    <!-- 389 -->\n    <g transform=\"translate(184.598962 133.7975)scale(0.1 -0.1)\">\n     <use xlink:href=\"#DejaVuSans-33\"/>\n     <use x=\"63.623047\" xlink:href=\"#DejaVuSans-38\"/>\n     <use x=\"127.246094\" xlink:href=\"#DejaVuSans-39\"/>\n    </g>\n   </g>\n   <g id=\"text_34\">\n    <!-- 405 -->\n    <g transform=\"translate(190.36206 121.7175)scale(0.1 -0.1)\">\n     <use xlink:href=\"#DejaVuSans-34\"/>\n     <use x=\"63.623047\" xlink:href=\"#DejaVuSans-30\"/>\n     <use x=\"127.246094\" xlink:href=\"#DejaVuSans-35\"/>\n    </g>\n   </g>\n   <g id=\"text_35\">\n    <!-- 471 -->\n    <g transform=\"translate(214.134841 109.6375)scale(0.1 -0.1)\">\n     <use xlink:href=\"#DejaVuSans-34\"/>\n     <use x=\"63.623047\" xlink:href=\"#DejaVuSans-37\"/>\n     <use x=\"127.246094\" xlink:href=\"#DejaVuSans-31\"/>\n    </g>\n   </g>\n   <g id=\"text_36\">\n    <!-- 600 -->\n    <g transform=\"translate(260.599823 97.5575)scale(0.1 -0.1)\">\n     <use xlink:href=\"#DejaVuSans-36\"/>\n     <use x=\"63.623047\" xlink:href=\"#DejaVuSans-30\"/>\n     <use x=\"127.246094\" xlink:href=\"#DejaVuSans-30\"/>\n    </g>\n   </g>\n   <g id=\"text_37\">\n    <!-- 600 -->\n    <g transform=\"translate(260.599823 85.4775)scale(0.1 -0.1)\">\n     <use xlink:href=\"#DejaVuSans-36\"/>\n     <use x=\"63.623047\" xlink:href=\"#DejaVuSans-30\"/>\n     <use x=\"127.246094\" xlink:href=\"#DejaVuSans-30\"/>\n    </g>\n   </g>\n   <g id=\"text_38\">\n    <!-- 729 -->\n    <g transform=\"translate(307.064804 73.3975)scale(0.1 -0.1)\">\n     <use xlink:href=\"#DejaVuSans-37\"/>\n     <use x=\"63.623047\" xlink:href=\"#DejaVuSans-32\"/>\n     <use x=\"127.246094\" xlink:href=\"#DejaVuSans-39\"/>\n    </g>\n   </g>\n   <g id=\"text_39\">\n    <!-- 752 -->\n    <g transform=\"translate(315.349258 61.3175)scale(0.1 -0.1)\">\n     <use xlink:href=\"#DejaVuSans-37\"/>\n     <use x=\"63.623047\" xlink:href=\"#DejaVuSans-35\"/>\n     <use x=\"127.246094\" xlink:href=\"#DejaVuSans-32\"/>\n    </g>\n   </g>\n   <g id=\"text_40\">\n    <!-- 807 -->\n    <g transform=\"translate(335.159909 49.2375)scale(0.1 -0.1)\">\n     <use xlink:href=\"#DejaVuSans-38\"/>\n     <use x=\"63.623047\" xlink:href=\"#DejaVuSans-30\"/>\n     <use x=\"127.246094\" xlink:href=\"#DejaVuSans-37\"/>\n    </g>\n   </g>\n   <g id=\"text_41\">\n    <!-- 845 -->\n    <g transform=\"translate(348.847268 37.1575)scale(0.1 -0.1)\">\n     <use xlink:href=\"#DejaVuSans-38\"/>\n     <use x=\"63.623047\" xlink:href=\"#DejaVuSans-34\"/>\n     <use x=\"127.246094\" xlink:href=\"#DejaVuSans-35\"/>\n    </g>\n   </g>\n   <g id=\"text_42\">\n    <!-- Feature importance -->\n    <g transform=\"translate(152.668125 16.318125)scale(0.12 -0.12)\">\n     <defs>\n      <path d=\"M 603 3500 \nL 1178 3500 \nL 1178 0 \nL 603 0 \nL 603 3500 \nz\nM 603 4863 \nL 1178 4863 \nL 1178 4134 \nL 603 4134 \nL 603 4863 \nz\n\" id=\"DejaVuSans-69\" transform=\"scale(0.015625)\"/>\n      <path d=\"M 3328 2828 \nQ 3544 3216 3844 3400 \nQ 4144 3584 4550 3584 \nQ 5097 3584 5394 3201 \nQ 5691 2819 5691 2113 \nL 5691 0 \nL 5113 0 \nL 5113 2094 \nQ 5113 2597 4934 2840 \nQ 4756 3084 4391 3084 \nQ 3944 3084 3684 2787 \nQ 3425 2491 3425 1978 \nL 3425 0 \nL 2847 0 \nL 2847 2094 \nQ 2847 2600 2669 2842 \nQ 2491 3084 2119 3084 \nQ 1678 3084 1418 2786 \nQ 1159 2488 1159 1978 \nL 1159 0 \nL 581 0 \nL 581 3500 \nL 1159 3500 \nL 1159 2956 \nQ 1356 3278 1631 3431 \nQ 1906 3584 2284 3584 \nQ 2666 3584 2933 3390 \nQ 3200 3197 3328 2828 \nz\n\" id=\"DejaVuSans-6d\" transform=\"scale(0.015625)\"/>\n      <path d=\"M 1159 525 \nL 1159 -1331 \nL 581 -1331 \nL 581 3500 \nL 1159 3500 \nL 1159 2969 \nQ 1341 3281 1617 3432 \nQ 1894 3584 2278 3584 \nQ 2916 3584 3314 3078 \nQ 3713 2572 3713 1747 \nQ 3713 922 3314 415 \nQ 2916 -91 2278 -91 \nQ 1894 -91 1617 61 \nQ 1341 213 1159 525 \nz\nM 3116 1747 \nQ 3116 2381 2855 2742 \nQ 2594 3103 2138 3103 \nQ 1681 3103 1420 2742 \nQ 1159 2381 1159 1747 \nQ 1159 1113 1420 752 \nQ 1681 391 2138 391 \nQ 2594 391 2855 752 \nQ 3116 1113 3116 1747 \nz\n\" id=\"DejaVuSans-70\" transform=\"scale(0.015625)\"/>\n      <path d=\"M 3513 2113 \nL 3513 0 \nL 2938 0 \nL 2938 2094 \nQ 2938 2591 2744 2837 \nQ 2550 3084 2163 3084 \nQ 1697 3084 1428 2787 \nQ 1159 2491 1159 1978 \nL 1159 0 \nL 581 0 \nL 581 3500 \nL 1159 3500 \nL 1159 2956 \nQ 1366 3272 1645 3428 \nQ 1925 3584 2291 3584 \nQ 2894 3584 3203 3211 \nQ 3513 2838 3513 2113 \nz\n\" id=\"DejaVuSans-6e\" transform=\"scale(0.015625)\"/>\n     </defs>\n     <use xlink:href=\"#DejaVuSans-46\"/>\n     <use x=\"52.019531\" xlink:href=\"#DejaVuSans-65\"/>\n     <use x=\"113.542969\" xlink:href=\"#DejaVuSans-61\"/>\n     <use x=\"174.822266\" xlink:href=\"#DejaVuSans-74\"/>\n     <use x=\"214.03125\" xlink:href=\"#DejaVuSans-75\"/>\n     <use x=\"277.410156\" xlink:href=\"#DejaVuSans-72\"/>\n     <use x=\"316.273438\" xlink:href=\"#DejaVuSans-65\"/>\n     <use x=\"377.796875\" xlink:href=\"#DejaVuSans-20\"/>\n     <use x=\"409.583984\" xlink:href=\"#DejaVuSans-69\"/>\n     <use x=\"437.367188\" xlink:href=\"#DejaVuSans-6d\"/>\n     <use x=\"534.779297\" xlink:href=\"#DejaVuSans-70\"/>\n     <use x=\"598.255859\" xlink:href=\"#DejaVuSans-6f\"/>\n     <use x=\"659.4375\" xlink:href=\"#DejaVuSans-72\"/>\n     <use x=\"700.550781\" xlink:href=\"#DejaVuSans-74\"/>\n     <use x=\"739.759766\" xlink:href=\"#DejaVuSans-61\"/>\n     <use x=\"801.039062\" xlink:href=\"#DejaVuSans-6e\"/>\n     <use x=\"864.417969\" xlink:href=\"#DejaVuSans-63\"/>\n     <use x=\"919.398438\" xlink:href=\"#DejaVuSans-65\"/>\n    </g>\n   </g>\n  </g>\n </g>\n <defs>\n  <clipPath id=\"p61c717b04e\">\n   <rect height=\"217.44\" width=\"334.8\" x=\"44.123438\" y=\"22.318125\"/>\n  </clipPath>\n </defs>\n</svg>\n",
      "image/png": "[encoded data removed]"
     },
     "metadata": {
      "needs_background": "light"
     }
    }
   ],
   "source": [
    "import xgboost as xgb\n",
    "from xgboost import plot_importance\n",
    "\n",
    "dtrain = xgb.DMatrix(X, label=Y_ori)\n",
    "\n",
    "# specify parameters via map\n",
    "#param = {'max_depth':config[0], 'eta':config[1], 'silent':1, 'objective':'multi:softmax', 'num_class':2 }#, 'nthread': 4} el nthread no hace lo esperado de dividir por nucleos\n",
    "param = {'max_depth':5, \n",
    "            'eta':0.001, 'silent':1, \n",
    "            'objective':'multi:softmax', \n",
    "            'num_class':3}\n",
    "            #'scale_pos_weight':sizeClass0/sizeClass1 }#, 'nthread': 4} el nthread no hace lo esperado de dividir por nucleos\n",
    "num_round = 150\n",
    "\n",
    "clf_xgboost = xgb.train(param, dtrain, num_round)\n",
    "\n",
    "\n",
    "print(\"Prediction accuracy using XGBoost: %f \" % accuracy_score(Y_ori,clf_xgboost.predict(dtrain)) )\n",
    "\n",
    "\n",
    "print(\" Clasif. report using all vars \")\n",
    "print(classification_report(Y_ori,clf_xgboost.predict(dtrain)) )\n",
    "\n",
    "plot_importance(clf_xgboost)\n"
   ]
  },
  {
   "cell_type": "code",
   "execution_count": null,
   "metadata": {},
   "outputs": [],
   "source": []
  }
 ]
}